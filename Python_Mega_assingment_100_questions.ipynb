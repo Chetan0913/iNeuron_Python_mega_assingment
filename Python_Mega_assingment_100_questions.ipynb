{
 "cells": [
  {
   "cell_type": "raw",
   "id": "d4e1c7d1",
   "metadata": {},
   "source": [
    "Q1. Why do we call Python as a general purpose and high-level programming language?\n",
    "Ans -- Python is way more like the English and easy to write and understand unlike binary code, which is hard to write and understand for humans. Hence, we called it as high-level programming language. As program is uses in widest variety of application domain, it is a general-purpose language."
   ]
  },
  {
   "cell_type": "raw",
   "id": "a9b29c68",
   "metadata": {},
   "source": [
    "Q2. Why is Python called a dynamically typed language?\n",
    "Ans – We don’t need to declare any datatype while creating any variable in python. It is smart enough to understand the type of values while running the code. Hence, we can call python is dynamically typed language"
   ]
  },
  {
   "cell_type": "raw",
   "id": "070c198d",
   "metadata": {},
   "source": [
    "Q3. List some pros and cons of Python programming language?\n",
    "Pros –\n",
    "1.\tPython is easy to learn and read\n",
    "2.\tPython have vast collection of libraries\n",
    "3.\tIt is free and open source\n",
    "4.\tIt is a portable programming lang.\n",
    "Cons –\n",
    "1.\tAs it interpreted programming lang, it takes bit more time to execute the code.\n",
    "2.\tIt consumes more memory\n",
    "3.\tIt is weak in mobile computing"
   ]
  },
  {
   "cell_type": "raw",
   "id": "034239de",
   "metadata": {},
   "source": [
    "Q4. In what all domains can we use Python?\n",
    "Ans – it can be use in Web development, Game development, Data Engineering/analyst/science (Data Domain), IoT related stuff, GUI, MI and AI etc."
   ]
  },
  {
   "cell_type": "raw",
   "id": "74a9f53e",
   "metadata": {},
   "source": [
    "Q5. What are variable and how can we declare them?\n",
    "Ans – Variable is a name to store the value or data. It can be string/numeric values or collections of data. We just need to assign them to the particular value or data using assignment operator (=). We can only use single special character (i.e. underscore) in the variable name and can not be started with numeric value."
   ]
  },
  {
   "cell_type": "raw",
   "id": "7eb53688",
   "metadata": {},
   "source": [
    "Q6. How can we take an input from the user in Python?\n",
    "Ans – Python have inbuild function called input function. Syntax – input()\n",
    "Ex – Take input from user and store it in variable name\n",
    "Name = input(\"Please tell me your name : \")"
   ]
  },
  {
   "cell_type": "raw",
   "id": "a9a868ee",
   "metadata": {},
   "source": [
    "Q7. What is the default datatype of the value that has been taken as an input using input() function?\n",
    "Ans – if we are using input(), then the default datatype will be string"
   ]
  },
  {
   "cell_type": "raw",
   "id": "31fd14a7",
   "metadata": {},
   "source": [
    "Q8. What is type casting?\n",
    "Ans – As python is dynamically typed language, sometimes we need to change the type of variable. And type casting will come in picture to help such scenarios. So type casting will convert the type into requested data type\n",
    "Ex – \n",
    "age= input(“Please tell me your age : “)\n",
    "here age will be a string type variable. So we can use type casting to convert that to int -\n",
    "age=int(input(“Please tell me your age : “))"
   ]
  },
  {
   "cell_type": "raw",
   "id": "925867b7",
   "metadata": {},
   "source": [
    "Q9. Can we take more than one input from the user using single input() function? If yes, how? If no, why?\n",
    "Ans – Yes, we can take more than one input with the help of single input() function. We need to use split() function to assign them to different variable.\n",
    "Ex – x, y = input(“please enter value of x and y : “).split()"
   ]
  },
  {
   "cell_type": "raw",
   "id": "8bdc6f7f",
   "metadata": {},
   "source": [
    "Q10. What are keywords?\n",
    "Ans -- Keywords are special reserved words that have specific meanings and purposes and can't be used for anything."
   ]
  },
  {
   "cell_type": "raw",
   "id": "2d9622b3",
   "metadata": {},
   "source": [
    "Q11. Can we use keywords as a variable? Support your answer with reason.\n",
    "Ans – No, we can not use keywords as a variable. As those are having special meaning in language setup, if we use it for a variable then it will show a error."
   ]
  },
  {
   "cell_type": "raw",
   "id": "bf066a7a",
   "metadata": {},
   "source": [
    "Q12. What is indentation? What's the use of indentation in Python?\n",
    "Ans – As we doesn’t use any brackets for block of coding, python have indentation for represent specific code as a block of code. If we missed to put indentation, it will shows error while running the code. Also, it helps user/person to read code easily."
   ]
  },
  {
   "cell_type": "raw",
   "id": "9ecb8227",
   "metadata": {},
   "source": [
    "Q13. How can we throw some output in Python?\n",
    "Ans – To show any output, python have inbuild function called print()"
   ]
  },
  {
   "cell_type": "raw",
   "id": "1fa193b0",
   "metadata": {},
   "source": [
    "Q14. What are operators in Python?\n",
    "Ans – There are different types of operator in python like arithmetic operator (+,-,*,**,/,//,%), conditional operator (<,>,<=,>=,=,!=) , logical operator(and, or, not) and Boolean operator(True, False)"
   ]
  },
  {
   "cell_type": "raw",
   "id": "f8a7fc86",
   "metadata": {},
   "source": [
    "Q15. What is difference between / and // operators?\n",
    "Ans -- / is a float division and // is a int division\n",
    "Ex – 5/2 = 2.5 but 5//2 = 2"
   ]
  },
  {
   "cell_type": "raw",
   "id": "92e24a4c",
   "metadata": {},
   "source": [
    "Q16. Write a code that gives following as an output.\n",
    "```iNeuroniNeuroniNeuroniNeuron```"
   ]
  },
  {
   "cell_type": "code",
   "execution_count": 2,
   "id": "e9b4aeaa",
   "metadata": {},
   "outputs": [
    {
     "name": "stdout",
     "output_type": "stream",
     "text": [
      "iNeuroniNeuroniNeuroniNeuron\n"
     ]
    }
   ],
   "source": [
    "i = 'iNeuron'\n",
    "print(i*4)"
   ]
  },
  {
   "cell_type": "raw",
   "id": "45f6286e",
   "metadata": {},
   "source": [
    "Q17. Write a code to take a number as an input from the user and check if the number is odd or even."
   ]
  },
  {
   "cell_type": "code",
   "execution_count": 3,
   "id": "67c7cf50",
   "metadata": {},
   "outputs": [
    {
     "name": "stdout",
     "output_type": "stream",
     "text": [
      "Please enter any number : 34\n",
      "34 is Even\n"
     ]
    }
   ],
   "source": [
    "n=int(input(\"Please enter any number : \"))\n",
    "if n%2 ==0:\n",
    "    print(n,\"is Even\")\n",
    "else:\n",
    "    print(n,\"is odd\")"
   ]
  },
  {
   "cell_type": "raw",
   "id": "e7f81ea7",
   "metadata": {},
   "source": [
    "Q18. What are boolean operator?\n",
    "Ans – True and False are the Boolean operator"
   ]
  },
  {
   "cell_type": "raw",
   "id": "15dbacf3",
   "metadata": {},
   "source": [
    "Q19. What will the output of the following?\n",
    "```1 or 0\n",
    "0 and 0\n",
    "True and False and True\n",
    "1 or 0 or 0```\n",
    "Output will be –\n",
    "1\n",
    "0\n",
    "False\n",
    "1"
   ]
  },
  {
   "cell_type": "raw",
   "id": "55a3a361",
   "metadata": {},
   "source": [
    "Q20. What are conditional statements in Python?\n",
    "Ans – if and else are the conditional statement in python."
   ]
  },
  {
   "cell_type": "raw",
   "id": "d6e23e57",
   "metadata": {},
   "source": [
    "Q21. What is use of 'if', 'elif' and 'else' keywords?\n",
    "If – it uses to check a condition and If that condition will be satisfied then code of if block will be executed\n",
    "Elif – it uses for multiple conditions/cases. So if user/programmer wanted to create 4 cases, he/she can create different elif block with specific condition and whatever condition will be true, that block of code will be executed.\n",
    "Else – it is a last block of condition statement. So if any condition will not get true then else block will get executed."
   ]
  },
  {
   "cell_type": "raw",
   "id": "5e3ede95",
   "metadata": {},
   "source": [
    "Q22. Write a code to take the age of person as an input and if age >= 18 display \"I can vote\". If age is < 18 display \"I can't vote\"."
   ]
  },
  {
   "cell_type": "code",
   "execution_count": 4,
   "id": "8f1d9f00",
   "metadata": {},
   "outputs": [
    {
     "name": "stdout",
     "output_type": "stream",
     "text": [
      "Please enter your age : 25\n",
      "I can vote\n"
     ]
    }
   ],
   "source": [
    "age=int(input(\"Please enter your age : \"))\n",
    "if age>=18:\n",
    "    print(\"I can vote\")\n",
    "else:\n",
    "    print(\"I can't vote\")"
   ]
  },
  {
   "cell_type": "raw",
   "id": "83deb23e",
   "metadata": {},
   "source": [
    "Q23. Write a code that displays the sum of all the even numbers from the given list.\n",
    "```numbers = [12, 75, 150, 180, 145, 525, 50]```"
   ]
  },
  {
   "cell_type": "code",
   "execution_count": 5,
   "id": "68246287",
   "metadata": {},
   "outputs": [
    {
     "name": "stdout",
     "output_type": "stream",
     "text": [
      "1137\n"
     ]
    }
   ],
   "source": [
    "numbers = [12, 75, 150, 180, 145, 525, 50]\n",
    "sum = 0\n",
    "for i in numbers:\n",
    "    sum += i\n",
    "print(sum)"
   ]
  },
  {
   "cell_type": "raw",
   "id": "e3cbd98d",
   "metadata": {},
   "source": [
    "Q24. Write a code to take 3 numbers as an input from the user and display the greatest no as output."
   ]
  },
  {
   "cell_type": "code",
   "execution_count": 6,
   "id": "050b029a",
   "metadata": {},
   "outputs": [
    {
     "name": "stdout",
     "output_type": "stream",
     "text": [
      "Please enter any three numbers : 1 2 3\n",
      "3 is gretest number\n"
     ]
    }
   ],
   "source": [
    "a,b,c = input(\"Please enter any three numbers : \").split()\n",
    "if int(a)>=int(b) and int(a)>=int(c):\n",
    "    print(a,\"is gretest number\")\n",
    "elif int(b)>=int(a) and int(b)>=int(c):\n",
    "    print(b,\"is gretest number\")\n",
    "else:\n",
    "    print(c,\"is gretest number\")"
   ]
  },
  {
   "cell_type": "raw",
   "id": "dd525ed7",
   "metadata": {},
   "source": [
    "Q25. Write a program to display only those numbers from a list that satisfy the following conditions\n",
    "- The number must be divisible by five\n",
    "- If the number is greater than 150, then skip it and move to the next number\n",
    "- If the number is greater than 500, then stop the loop\n",
    "```numbers = [12, 75, 150, 180, 145, 525, 50]```"
   ]
  },
  {
   "cell_type": "code",
   "execution_count": 7,
   "id": "60c703bc",
   "metadata": {},
   "outputs": [
    {
     "name": "stdout",
     "output_type": "stream",
     "text": [
      "75\n",
      "150\n",
      "145\n"
     ]
    }
   ],
   "source": [
    "numbers = [12, 75, 150, 180, 145, 525, 50]\n",
    "for i in numbers:\n",
    "    if i>500:\n",
    "        break\n",
    "    if (i%5==0) and (i <=150):\n",
    "        print(i)"
   ]
  },
  {
   "cell_type": "raw",
   "id": "9d22b0c2",
   "metadata": {},
   "source": [
    "Q26. What is a string? How can we declare string in Python?\n",
    "Ans -- String is a datatype in python. We can also called as a collection of alphanumeric charector within '' or \"\".We can declare string using single quote '' or double quote \"\""
   ]
  },
  {
   "cell_type": "raw",
   "id": "721d48cc",
   "metadata": {},
   "source": [
    "Q27. How can we access the string using its index?\n",
    "Ans -- Sting index starts with zero and ends with (len(string_name)-1). \n",
    "so, as we can see in below example, str1[2] gave 3rd element of string \"INDIA\""
   ]
  },
  {
   "cell_type": "code",
   "execution_count": 8,
   "id": "fd300f17",
   "metadata": {},
   "outputs": [
    {
     "name": "stdout",
     "output_type": "stream",
     "text": [
      "d\n"
     ]
    }
   ],
   "source": [
    "str1 = 'India'\n",
    "print(str1[2])"
   ]
  },
  {
   "cell_type": "raw",
   "id": "abd2c9c2",
   "metadata": {},
   "source": [
    "Q28. Write a code to get the desired output of the following\n",
    "string = \"Big Data iNeuron\"\n",
    "desired_output = \"iNeuron\""
   ]
  },
  {
   "cell_type": "code",
   "execution_count": 12,
   "id": "c6f874e6",
   "metadata": {},
   "outputs": [
    {
     "name": "stdout",
     "output_type": "stream",
     "text": [
      "iNeuron\n"
     ]
    }
   ],
   "source": [
    "# We can use stirng slice to print the output\n",
    "string = \"Big Data iNeuron\"\n",
    "d=len(\"iNeuron\")\n",
    "if \"iNeuron\" in string:\n",
    "    print(string[(len(string)-d):len(string)])"
   ]
  },
  {
   "cell_type": "raw",
   "id": "edf3027c",
   "metadata": {},
   "source": [
    "Q29. Write a code to get the desired output of the following\n",
    "string = \"Big Data iNeuron\"\n",
    "desired_output = \"norueNi\""
   ]
  },
  {
   "cell_type": "code",
   "execution_count": 14,
   "id": "cc967c9f",
   "metadata": {},
   "outputs": [
    {
     "name": "stdout",
     "output_type": "stream",
     "text": [
      "norueNi \n"
     ]
    }
   ],
   "source": [
    "string = \"Big Data iNeuron\"\n",
    "d=len(\"iNeuron\")\n",
    "ans=(string[-1:d:-1])\n",
    "print(ans)"
   ]
  },
  {
   "cell_type": "raw",
   "id": "8012065b",
   "metadata": {},
   "source": [
    "Q30. Resverse the string given in the above question."
   ]
  },
  {
   "cell_type": "code",
   "execution_count": 18,
   "id": "1e7a50fd",
   "metadata": {},
   "outputs": [
    {
     "name": "stdout",
     "output_type": "stream",
     "text": [
      " iNeuron\n"
     ]
    }
   ],
   "source": [
    "print(ans[-1::-1])"
   ]
  },
  {
   "cell_type": "raw",
   "id": "ba9c11cb",
   "metadata": {},
   "source": [
    "Q31. How can you delete entire string at once?\n",
    "Ans -- We can use del function to delete entire string at once\n",
    "Ex -- del(string_name)"
   ]
  },
  {
   "cell_type": "raw",
   "id": "faf8cb7f",
   "metadata": {},
   "source": [
    "Q32. What is escape sequence?\n",
    "Ans -- Escape sequence are uses to insert characters that are illegal in a string\n",
    "single quote  \\'\n",
    "double quote  \\\"\n",
    "new line  \\n\n",
    "tab       \\t\n",
    "backspace  \\b\n"
   ]
  },
  {
   "cell_type": "raw",
   "id": "99a427b3",
   "metadata": {},
   "source": [
    "Q33. How can you print the below string?\n",
    "\n",
    "'iNeuron's Big Data Course'"
   ]
  },
  {
   "cell_type": "code",
   "execution_count": 20,
   "id": "7d2af902",
   "metadata": {},
   "outputs": [
    {
     "name": "stdout",
     "output_type": "stream",
     "text": [
      "iNeuron's Big Data Course\n",
      "iNeuron's Big Data Course\n"
     ]
    }
   ],
   "source": [
    "print(\"iNeuron's Big Data Course\")\n",
    "# or\n",
    "print('iNeuron\\'s Big Data Course')"
   ]
  },
  {
   "cell_type": "raw",
   "id": "e048912e",
   "metadata": {},
   "source": [
    "Q34. What is a list in Python?\n",
    "Ans-- List is a datatype in python. We can use list to add any type of data, like sting, int, float, list, touple,dict,set etc\n",
    "we can access list using index. It can have duplicate values unlike tuple and set."
   ]
  },
  {
   "cell_type": "raw",
   "id": "bde1acd5",
   "metadata": {},
   "source": [
    "Q35. How can you create a list in Python?\n",
    "Ans -- We can create empty list. Syntax -- list_name = []\n",
    "and then we can add/append different types of data in it"
   ]
  },
  {
   "cell_type": "raw",
   "id": "50b43516",
   "metadata": {},
   "source": [
    "Q36. How can we access the elements in a list?\n",
    "Ans -- We can uses index to access the element in list\n",
    "Here also, the index starts with zero and ends with (len(list_name)-1)"
   ]
  },
  {
   "cell_type": "raw",
   "id": "539d343d",
   "metadata": {},
   "source": [
    "Q37. Write a code to access the word \"iNeuron\" from the given list.\n",
    "\n",
    "lst = [1,2,3,\"Hi\",[45,54, \"iNeuron\"], \"Big Data\"]"
   ]
  },
  {
   "cell_type": "code",
   "execution_count": 21,
   "id": "0c55db4a",
   "metadata": {},
   "outputs": [
    {
     "name": "stdout",
     "output_type": "stream",
     "text": [
      "iNeuron\n"
     ]
    }
   ],
   "source": [
    "lst = [1,2,3,\"Hi\",[45,54, \"iNeuron\"], \"Big Data\"]\n",
    "print(lst[4][2])"
   ]
  },
  {
   "cell_type": "raw",
   "id": "eb5fda02",
   "metadata": {},
   "source": [
    "Q38. Take a list as an input from the user and find the length of the list."
   ]
  },
  {
   "cell_type": "code",
   "execution_count": 22,
   "id": "690a768e",
   "metadata": {},
   "outputs": [
    {
     "name": "stdout",
     "output_type": "stream",
     "text": [
      "Enter the int element for list : 2 3 4 5 6 7 8 9\n",
      "8\n"
     ]
    }
   ],
   "source": [
    "l = input(\"Enter the int element for list : \").split()\n",
    "print(len(l))"
   ]
  },
  {
   "cell_type": "raw",
   "id": "e150951b",
   "metadata": {},
   "source": [
    "Q39. Add the word \"Big\" in the 3rd index of the given list.\n",
    "\n",
    "lst = [\"Welcome\", \"to\", \"Data\", \"course\"]"
   ]
  },
  {
   "cell_type": "code",
   "execution_count": 24,
   "id": "9006528b",
   "metadata": {},
   "outputs": [
    {
     "name": "stdout",
     "output_type": "stream",
     "text": [
      "['Welcome', 'to', 'Big', 'Data', 'course']\n"
     ]
    }
   ],
   "source": [
    "lst1 = [\"Welcome\", \"to\", \"Data\", \"course\"]\n",
    "lst1.insert(2,\"Big\")\n",
    "print(lst1)"
   ]
  },
  {
   "cell_type": "raw",
   "id": "e1ce5d1b",
   "metadata": {},
   "source": [
    "Q40. What is a tuple? How is it different from list?\n",
    "Ans -- Tuple is built-in data types in Python. It is a collection which is ordered and unchangeable.\n",
    "we can use/access tuple using index."
   ]
  },
  {
   "cell_type": "raw",
   "id": "9e9852ad",
   "metadata": {},
   "source": [
    "Q41. How can you create a tuple in Python?\n",
    "Ans -- we can create empty tuple like tuple_name = (). But as it is immutable, creating empty tuple does not make any sense.\n",
    "usually, user creates tuple which is having few values like tuple1=(1,2,3,4)\n",
    "we can add any type of data in tuple"
   ]
  },
  {
   "cell_type": "raw",
   "id": "54317d97",
   "metadata": {},
   "source": [
    "Q42. Create a tuple and try to add your name in the tuple. Are you able to do it? Support your answer with reason.\n",
    "Ans -- we can not add any data into tuple, as it is immutable.\n",
    "please find below example - we can not add/append"
   ]
  },
  {
   "cell_type": "code",
   "execution_count": 3,
   "id": "7f88231a",
   "metadata": {},
   "outputs": [
    {
     "name": "stdout",
     "output_type": "stream",
     "text": [
      "(1, 2, 3, 4, 5, 6, 'Hi')\n"
     ]
    },
    {
     "ename": "AttributeError",
     "evalue": "'tuple' object has no attribute 'append'",
     "output_type": "error",
     "traceback": [
      "\u001b[1;31m---------------------------------------------------------------------------\u001b[0m",
      "\u001b[1;31mAttributeError\u001b[0m                            Traceback (most recent call last)",
      "Cell \u001b[1;32mIn [3], line 3\u001b[0m\n\u001b[0;32m      1\u001b[0m tuple1 \u001b[38;5;241m=\u001b[39m (\u001b[38;5;241m1\u001b[39m,\u001b[38;5;241m2\u001b[39m,\u001b[38;5;241m3\u001b[39m,\u001b[38;5;241m4\u001b[39m,\u001b[38;5;241m5\u001b[39m,\u001b[38;5;241m6\u001b[39m,\u001b[38;5;124m\"\u001b[39m\u001b[38;5;124mHi\u001b[39m\u001b[38;5;124m\"\u001b[39m)\n\u001b[0;32m      2\u001b[0m \u001b[38;5;28mprint\u001b[39m(tuple1)\n\u001b[1;32m----> 3\u001b[0m \u001b[43mtuple1\u001b[49m\u001b[38;5;241;43m.\u001b[39;49m\u001b[43mappend\u001b[49m(\u001b[38;5;124m\"\u001b[39m\u001b[38;5;124mTeam\u001b[39m\u001b[38;5;124m\"\u001b[39m)\n",
      "\u001b[1;31mAttributeError\u001b[0m: 'tuple' object has no attribute 'append'"
     ]
    }
   ],
   "source": [
    "tuple1 = (1,2,3,4,5,6,\"Hi\")\n",
    "print(tuple1)\n",
    "tuple1.append(\"Team\")"
   ]
  },
  {
   "cell_type": "raw",
   "id": "f136af97",
   "metadata": {},
   "source": [
    "Q43. Can two tuple be appended. If yes, write a code for it. If not, why?\n",
    "Ans -- Yes two tuples can be appended. Please find below code."
   ]
  },
  {
   "cell_type": "code",
   "execution_count": 6,
   "id": "b283556a",
   "metadata": {},
   "outputs": [
    {
     "name": "stdout",
     "output_type": "stream",
     "text": [
      "(1, 2, 3, 4, 5, 6, 7, 8)\n"
     ]
    }
   ],
   "source": [
    "a_tup = (1,2,3,4)\n",
    "b_tup = (5,6,7,8)\n",
    "#c_tup = a_tup + b_tup\n",
    "print(a_tup + b_tup)"
   ]
  },
  {
   "cell_type": "raw",
   "id": "0a8c559b",
   "metadata": {},
   "source": [
    "Q44. Take a tuple as an input and print the count of elements in it."
   ]
  },
  {
   "cell_type": "code",
   "execution_count": 7,
   "id": "587303ba",
   "metadata": {},
   "outputs": [
    {
     "name": "stdout",
     "output_type": "stream",
     "text": [
      "enter spce reperated element for tuple : 2 3 Hi 78 My 8763 Name 1 is \n",
      "('2', '3', 'Hi', '78', 'My', '8763', 'Name', '1', 'is')\n",
      "9\n"
     ]
    }
   ],
   "source": [
    "tup = tuple(input(\"enter spce reperated element for tuple : \").split())\n",
    "print(tup)\n",
    "print(len(tup))"
   ]
  },
  {
   "cell_type": "raw",
   "id": "1fdd89e4",
   "metadata": {},
   "source": [
    "Q45. What are sets in Python?\n",
    "Ans -- The sets are an unordered collection of data types. These are mutable, iterable, and do not consist of any duplicate elements. The set class in Python represents the set’s mathematical notion."
   ]
  },
  {
   "cell_type": "raw",
   "id": "d7b4830c",
   "metadata": {},
   "source": [
    "Q46. How can you create a set?\n",
    "Ans -- We can create empty set like set_name = set() and them we can add data using add() function"
   ]
  },
  {
   "cell_type": "raw",
   "id": "3a2a13f3",
   "metadata": {},
   "source": [
    "Q47. Create a set and add \"iNeuron\" in your set."
   ]
  },
  {
   "cell_type": "code",
   "execution_count": 8,
   "id": "a66e7c61",
   "metadata": {},
   "outputs": [
    {
     "name": "stdout",
     "output_type": "stream",
     "text": [
      "{'iNeuron'}\n"
     ]
    }
   ],
   "source": [
    "a=set()\n",
    "a.add(\"iNeuron\")\n",
    "print(a)"
   ]
  },
  {
   "cell_type": "raw",
   "id": "b3ff7f5b",
   "metadata": {},
   "source": [
    "Q48. Try to add multiple values using add() function.\n",
    "Ans -- it will give below error\n",
    "TypeError: set.add() takes exactly one argument"
   ]
  },
  {
   "cell_type": "code",
   "execution_count": 9,
   "id": "8c40f599",
   "metadata": {},
   "outputs": [
    {
     "ename": "TypeError",
     "evalue": "set.add() takes exactly one argument (4 given)",
     "output_type": "error",
     "traceback": [
      "\u001b[1;31m---------------------------------------------------------------------------\u001b[0m",
      "\u001b[1;31mTypeError\u001b[0m                                 Traceback (most recent call last)",
      "Cell \u001b[1;32mIn [9], line 1\u001b[0m\n\u001b[1;32m----> 1\u001b[0m \u001b[43ma\u001b[49m\u001b[38;5;241;43m.\u001b[39;49m\u001b[43madd\u001b[49m\u001b[43m(\u001b[49m\u001b[38;5;241;43m1\u001b[39;49m\u001b[43m,\u001b[49m\u001b[38;5;241;43m2\u001b[39;49m\u001b[43m,\u001b[49m\u001b[38;5;241;43m3\u001b[39;49m\u001b[43m,\u001b[49m\u001b[38;5;241;43m4\u001b[39;49m\u001b[43m)\u001b[49m\n",
      "\u001b[1;31mTypeError\u001b[0m: set.add() takes exactly one argument (4 given)"
     ]
    }
   ],
   "source": [
    "a.add(1,2,3,4)"
   ]
  },
  {
   "cell_type": "raw",
   "id": "39609e11",
   "metadata": {},
   "source": [
    "Q49. How is update() different from add()?\n",
    "Ans -- As we can not add multiple values with add function, we can use update() function\n",
    "Syntax -- set.update(set)\n",
    "add() add sigle value to set and update() can add one set to other and will show only unique values"
   ]
  },
  {
   "cell_type": "code",
   "execution_count": 11,
   "id": "15174cba",
   "metadata": {},
   "outputs": [
    {
     "name": "stdout",
     "output_type": "stream",
     "text": [
      "{'cherry', 'apple', 'banana', 'microsoft', 'google'}\n"
     ]
    }
   ],
   "source": [
    "b = {\"apple\", \"banana\", \"cherry\"}\n",
    "c = {\"google\", \"microsoft\", \"apple\"}\n",
    "b.update(c)\n",
    "print(b)"
   ]
  },
  {
   "cell_type": "raw",
   "id": "e3f8d7c6",
   "metadata": {},
   "source": [
    "Q50. What is clear() in sets?\n",
    "Ans -- clear() method will clear all the element from set and make it empty"
   ]
  },
  {
   "cell_type": "raw",
   "id": "219ab205",
   "metadata": {},
   "source": [
    "Q51. What is frozen set?\n",
    "Ans -- Frozen set is just an immutable version of a Python set object. While elements of a set can be modified at any time, elements of the frozen set remain the same after creation."
   ]
  },
  {
   "cell_type": "raw",
   "id": "b1cb4ff7",
   "metadata": {},
   "source": [
    "Q52. How is frozenset different from set?\n",
    "Ans -- Set can be mutable but frozenset will be immutable"
   ]
  },
  {
   "cell_type": "raw",
   "id": "837b0a9c",
   "metadata": {},
   "source": [
    "Q53. What is union() in sets? Explain via code.\n",
    "Ans -- union() will combine all elements from two set and display all unique from them"
   ]
  },
  {
   "cell_type": "code",
   "execution_count": 13,
   "id": "b8f6a6ef",
   "metadata": {},
   "outputs": [
    {
     "name": "stdout",
     "output_type": "stream",
     "text": [
      "{'c', 'a', 'd', 'b', 'f', '3', 'e'}\n"
     ]
    }
   ],
   "source": [
    "x = {'a','3','b','c'}\n",
    "y = {'d','a','e','f','3'}\n",
    "print(x | y)"
   ]
  },
  {
   "cell_type": "raw",
   "id": "7836da8f",
   "metadata": {},
   "source": [
    "Q54. What is intersection() in sets? Explain via code.\n",
    "Ans -- intersection() will show only common elements from two different sets"
   ]
  },
  {
   "cell_type": "code",
   "execution_count": 14,
   "id": "9e459ae9",
   "metadata": {},
   "outputs": [
    {
     "name": "stdout",
     "output_type": "stream",
     "text": [
      "{'a', '3'}\n"
     ]
    }
   ],
   "source": [
    "print(x & y)"
   ]
  },
  {
   "cell_type": "raw",
   "id": "a4b75535",
   "metadata": {},
   "source": [
    "Q55. What is dictionary ibn Python?\n",
    "Ans -- In Python, the dictionary refers to a collection (unordered) of various data types. We use these for storing data values such as maps, and unlike other data types capable of holding only one value in the form of an element, a dictionary can hold the key: value pair. The key value in a dictionary is present to make it comparatively more optimized."
   ]
  },
  {
   "cell_type": "raw",
   "id": "40fd00de",
   "metadata": {},
   "source": [
    "Q56. How is dictionary different from all other data structures.\n",
    "Ans -- Unlike other data types, dict can hold pair of keys and values which uses to map the data"
   ]
  },
  {
   "cell_type": "raw",
   "id": "c772808f",
   "metadata": {},
   "source": [
    "Q57. How can we delare a dictionary in Python?\n",
    "Ans -- We can create empty dictionary in python like dictionary_name = {}\n",
    "or can assign values to key while create a dictionary like\n",
    "dict1 = {'a' : 1,\n",
    "        'b' : 2,\n",
    "        'c' : 3}"
   ]
  },
  {
   "cell_type": "raw",
   "id": "d7d211de",
   "metadata": {},
   "source": [
    "Q58. What will the output of the following?\n",
    "var = {}\n",
    "print(type(var))\n",
    "\n",
    "Ans -- var is name of dictionary and output will be type of var i.e dict"
   ]
  },
  {
   "cell_type": "raw",
   "id": "29ce2ec9",
   "metadata": {},
   "source": [
    "Q59. How can we add an element in a dictionary?\n",
    "Ans -- please find below code"
   ]
  },
  {
   "cell_type": "code",
   "execution_count": 15,
   "id": "fbbb051e",
   "metadata": {},
   "outputs": [
    {
     "name": "stdout",
     "output_type": "stream",
     "text": [
      "{'a': 1, 'b': 2}\n"
     ]
    }
   ],
   "source": [
    "dict1 = {}\n",
    "dict1['a'] = 1\n",
    "dict1['b'] = 2\n",
    "print(dict1)"
   ]
  },
  {
   "cell_type": "raw",
   "id": "11f07621",
   "metadata": {},
   "source": [
    "Q60. Create a dictionary and access all the values in that dictionary."
   ]
  },
  {
   "cell_type": "code",
   "execution_count": 18,
   "id": "e5d495ca",
   "metadata": {},
   "outputs": [
    {
     "name": "stdout",
     "output_type": "stream",
     "text": [
      "dict_values([1, 2, 3, 4])\n"
     ]
    }
   ],
   "source": [
    "dict2 = {'a' : 1,\n",
    "        'b' : 2,\n",
    "        'c' : 3,\n",
    "        'd' : 4}\n",
    "print(dict2.values())"
   ]
  },
  {
   "cell_type": "raw",
   "id": "cce529f4",
   "metadata": {},
   "source": [
    "Q61. Create a nested dictionary and access all the element in the inner dictionary."
   ]
  },
  {
   "cell_type": "code",
   "execution_count": 20,
   "id": "d043181e",
   "metadata": {},
   "outputs": [
    {
     "name": "stdout",
     "output_type": "stream",
     "text": [
      "{'a': 1, 'b': 2, 'c': 3, 'd': 4, 'inner_dict': {'q': 234, 'w': 45, 't': 'xyz'}}\n",
      "{'q': 234, 'w': 45, 't': 'xyz'}\n"
     ]
    }
   ],
   "source": [
    "dict2 ['inner_dict'] = {'q':234,'w':45,'t':\"xyz\"}\n",
    "print(dict2)\n",
    "print(dict2['inner_dict'])"
   ]
  },
  {
   "cell_type": "raw",
   "id": "1d86c558",
   "metadata": {},
   "source": [
    "Q62. What is the use of get() function?\n",
    "Ans -- The get() method returns the value of the item with the specified key."
   ]
  },
  {
   "cell_type": "code",
   "execution_count": 22,
   "id": "2a9fa463",
   "metadata": {},
   "outputs": [
    {
     "name": "stdout",
     "output_type": "stream",
     "text": [
      "1\n"
     ]
    }
   ],
   "source": [
    "get1 = dict2.get('a')\n",
    "print(get1)"
   ]
  },
  {
   "cell_type": "raw",
   "id": "c52bf9d0",
   "metadata": {},
   "source": [
    "Q63. What is the use of items() function?\n",
    "Ans -- item function retruns all the key and value from dict"
   ]
  },
  {
   "cell_type": "code",
   "execution_count": 23,
   "id": "47eb8bb9",
   "metadata": {},
   "outputs": [
    {
     "name": "stdout",
     "output_type": "stream",
     "text": [
      "dict_items([('a', 1), ('b', 2), ('c', 3), ('d', 4), ('inner_dict', {'q': 234, 'w': 45, 't': 'xyz'})])\n"
     ]
    }
   ],
   "source": [
    "print(dict2.items())"
   ]
  },
  {
   "cell_type": "raw",
   "id": "0013eaf8",
   "metadata": {},
   "source": [
    "Q64. What is the use of pop() function?\n",
    "Ans -- The pop() method removes the element at the specified position/key"
   ]
  },
  {
   "cell_type": "code",
   "execution_count": 24,
   "id": "f9db3a31",
   "metadata": {},
   "outputs": [
    {
     "name": "stdout",
     "output_type": "stream",
     "text": [
      "{'b': 2, 'c': 3, 'd': 4, 'inner_dict': {'q': 234, 'w': 45, 't': 'xyz'}}\n"
     ]
    }
   ],
   "source": [
    "dict2.pop('a')\n",
    "print(dict2)"
   ]
  },
  {
   "cell_type": "raw",
   "id": "435025a0",
   "metadata": {},
   "source": [
    "Q65. What is the use of popitems() function?\n",
    "Ans -- The popitem() method removes the item that was last inserted into the dictionary. In versions before 3.7, the popitem() method removes a random item."
   ]
  },
  {
   "cell_type": "code",
   "execution_count": 25,
   "id": "8ba93243",
   "metadata": {},
   "outputs": [
    {
     "name": "stdout",
     "output_type": "stream",
     "text": [
      "{'b': 2, 'c': 3, 'd': 4, 'inner_dict': {'q': 234, 'w': 45, 't': 'xyz'}, 'a': 1, 'f': 45}\n"
     ]
    }
   ],
   "source": [
    "dict2['a']=1\n",
    "dict2['f']=45\n",
    "print(dict2)"
   ]
  },
  {
   "cell_type": "code",
   "execution_count": 27,
   "id": "1072138c",
   "metadata": {},
   "outputs": [
    {
     "name": "stdout",
     "output_type": "stream",
     "text": [
      "{'b': 2, 'c': 3, 'd': 4, 'inner_dict': {'q': 234, 'w': 45, 't': 'xyz'}, 'a': 1}\n"
     ]
    }
   ],
   "source": [
    "dict2.popitem()\n",
    "print(dict2)\n",
    "# last element removed after this code"
   ]
  },
  {
   "cell_type": "raw",
   "id": "0f6575a1",
   "metadata": {},
   "source": [
    "Q66. What is the use of keys() function?\n",
    "Ans -- keys function return all the keys from dictionary "
   ]
  },
  {
   "cell_type": "code",
   "execution_count": 28,
   "id": "b41c2617",
   "metadata": {},
   "outputs": [
    {
     "name": "stdout",
     "output_type": "stream",
     "text": [
      "dict_keys(['b', 'c', 'd', 'inner_dict', 'a'])\n"
     ]
    }
   ],
   "source": [
    "print(dict2.keys())"
   ]
  },
  {
   "cell_type": "raw",
   "id": "9482f231",
   "metadata": {},
   "source": [
    "Q67. What is the use of values() function?\n",
    "Ans -- values function return all the values from dictionary "
   ]
  },
  {
   "cell_type": "code",
   "execution_count": 29,
   "id": "f32074ee",
   "metadata": {},
   "outputs": [
    {
     "name": "stdout",
     "output_type": "stream",
     "text": [
      "dict_values([2, 3, 4, {'q': 234, 'w': 45, 't': 'xyz'}, 1])\n"
     ]
    }
   ],
   "source": [
    "print(dict2.values())"
   ]
  },
  {
   "cell_type": "raw",
   "id": "18eba608",
   "metadata": {},
   "source": [
    "Q68. What are loops in Python?\n",
    "Ans -- loops are epeating something over and over until a particular condition is satisfied. Python have two loops.\n",
    "for loop and while loop"
   ]
  },
  {
   "cell_type": "raw",
   "id": "fbd7a6b2",
   "metadata": {},
   "source": [
    "Q69. How many type of loop are there in Python?\n",
    "Ans -- There are two types of loops in python"
   ]
  },
  {
   "cell_type": "raw",
   "id": "9161a675",
   "metadata": {},
   "source": [
    "Q70. What is the difference between for and while loops?\n",
    "for --\n",
    "1. Uses for keyword\n",
    "2. For loop is used when the number of iterations is already known.\n",
    "3. The loop runs infinite times in the absence of condition\n",
    "4. To iterate, the range or xrange function is used.\n",
    "5. Python's for loop can iterate over generators.\n",
    "\n",
    "While -\n",
    "1. Uses while keyword\n",
    "2. While loop is used when the number of iterations is already Unknown.\n",
    "3. Returns the compile time error in the absence of condition\n",
    "4. In the while loop, it is possible to do this anywhere in the loop body.\n",
    "5. While loops cannot be directly iterated on Generators."
   ]
  },
  {
   "cell_type": "raw",
   "id": "7b916fd4",
   "metadata": {},
   "source": [
    "Q71. What is the use of continue statement?\n",
    "Ans -- continue statement uses to skip any state or condition "
   ]
  },
  {
   "cell_type": "raw",
   "id": "2a09e037",
   "metadata": {},
   "source": [
    "Q72. What is the use of break statement?\n",
    "Ans -- Break statement uses to break the loop after a perticular condition"
   ]
  },
  {
   "cell_type": "raw",
   "id": "f90d1ef4",
   "metadata": {},
   "source": [
    "Q73. What is the use of pass statement?\n",
    "Ans -- Pass statement uses to pass the execution to remaining body of code.\n",
    "When the pass statement is executed, nothing happens, but you avoid getting an error when empty code is not allowed."
   ]
  },
  {
   "cell_type": "raw",
   "id": "5a30fdd5",
   "metadata": {},
   "source": [
    "Q74. What is the use of range() function?\n",
    "Ans -- range function uses to provide range for any function. mostly it uses with for loop to iterate the loop in perticular range"
   ]
  },
  {
   "cell_type": "raw",
   "id": "5289efce",
   "metadata": {},
   "source": [
    "Q75. How can you loop over a dictionary?\n",
    "Ans -- we can uses loop for dictionary. please find below code."
   ]
  },
  {
   "cell_type": "code",
   "execution_count": 32,
   "id": "50aaa7ed",
   "metadata": {},
   "outputs": [
    {
     "name": "stdout",
     "output_type": "stream",
     "text": [
      "key in dict2 :  b\n",
      "key in dict2 :  c\n",
      "key in dict2 :  d\n",
      "key in dict2 :  inner_dict\n",
      "key in dict2 :  a\n",
      "value in dict2 : 2\n",
      "value in dict2 : 3\n",
      "value in dict2 : 4\n",
      "value in dict2 : {'q': 234, 'w': 45, 't': 'xyz'}\n",
      "value in dict2 : 1\n"
     ]
    }
   ],
   "source": [
    "for i in dict2:\n",
    "    print(\"key in dict2 : \",i)\n",
    "    \n",
    "for i in dict2:\n",
    "    print(\"value in dict2 :\",dict2[i])"
   ]
  },
  {
   "cell_type": "raw",
   "id": "9eb76735",
   "metadata": {},
   "source": [
    "Q76. Write a Python program to find the factorial of a given number."
   ]
  },
  {
   "cell_type": "code",
   "execution_count": 3,
   "id": "6b071f9f",
   "metadata": {},
   "outputs": [
    {
     "name": "stdout",
     "output_type": "stream",
     "text": [
      "Enter positive number to find factorial: 6\n",
      "factorial of 6 is 720\n"
     ]
    }
   ],
   "source": [
    "def factorial (num):\n",
    "    if num==1:\n",
    "        return(1)\n",
    "    else :\n",
    "        return(num * factorial(num-1))\n",
    "\n",
    "n=int(input(\"Enter positive number to find factorial: \"))\n",
    "print(\"factorial of\",n,\"is\",factorial(n))"
   ]
  },
  {
   "cell_type": "raw",
   "id": "fecbdd64",
   "metadata": {},
   "source": [
    "Q77. Write a Python program to calculate the simple interest. Formula to calculate simple interest is SI = (PRT)/100"
   ]
  },
  {
   "cell_type": "code",
   "execution_count": 5,
   "id": "d1edb6d8",
   "metadata": {},
   "outputs": [
    {
     "name": "stdout",
     "output_type": "stream",
     "text": [
      "This program calculate simple interest\n",
      "Please enter the principle amount : 8\n",
      "please enter the rate of interest : 6\n",
      "Please enter the time : 8\n",
      "Simple interest is  3.84\n"
     ]
    }
   ],
   "source": [
    "print('This program calculate simple interest')\n",
    "p=int(input(\"Please enter the principle amount : \"))\n",
    "r=int(input(\"please enter the rate of interest : \"))\n",
    "t=int(input(\"Please enter the time : \"))\n",
    "si = (p*r*t)/100\n",
    "print(\"Simple interest is \",si)"
   ]
  },
  {
   "cell_type": "raw",
   "id": "1684c7fd",
   "metadata": {},
   "source": [
    "Q78. Write a Python program to calculate the compound interest. Formula of compound interest is A = P(1+ R/100)^t."
   ]
  },
  {
   "cell_type": "code",
   "execution_count": 11,
   "id": "3d766e91",
   "metadata": {},
   "outputs": [
    {
     "name": "stdout",
     "output_type": "stream",
     "text": [
      "Please enter the principle amount : 10\n",
      "please enter the rate of interest : 5\n",
      "Please enter the time : 8\n",
      "Compound Interest :  14.77455443789063\n"
     ]
    }
   ],
   "source": [
    "p1=int(input(\"Please enter the principle amount : \"))\n",
    "r1=int(input(\"please enter the rate of interest : \"))\n",
    "t1=int(input(\"Please enter the time : \"))\n",
    "A = p1*((1+(r1/100))**t1)\n",
    "print(\"Compound Interest : \",A)"
   ]
  },
  {
   "cell_type": "raw",
   "id": "3edf1035",
   "metadata": {},
   "source": [
    "Q79. Write a Python program to check if a number is prime or not."
   ]
  },
  {
   "cell_type": "code",
   "execution_count": 13,
   "id": "6f0b7df0",
   "metadata": {},
   "outputs": [
    {
     "name": "stdout",
     "output_type": "stream",
     "text": [
      "Enter a number: 567\n",
      "567 is not a prime number\n",
      "3 times 189 is 567\n"
     ]
    }
   ],
   "source": [
    "num1 = int(input(\"Enter a number: \"))\n",
    "if num1 > 1:\n",
    "   for i in range(2,num1):\n",
    "       if (num1 % i) == 0:\n",
    "           print(num1,\"is not a prime number\")\n",
    "           print(i,\"times\",num1//i,\"is\",num1)\n",
    "           break\n",
    "   else:\n",
    "       print(num1,\"is a prime number\")\n",
    "else:\n",
    "   print(num1,\"is not a prime number\")"
   ]
  },
  {
   "cell_type": "raw",
   "id": "446ca4a0",
   "metadata": {},
   "source": [
    "Q80. Write a Python program to check Armstrong Number."
   ]
  },
  {
   "cell_type": "code",
   "execution_count": 16,
   "id": "d905cf12",
   "metadata": {},
   "outputs": [
    {
     "name": "stdout",
     "output_type": "stream",
     "text": [
      "Enter any number : 1634\n",
      "1634 is an Armstrong number\n"
     ]
    }
   ],
   "source": [
    "num2 = int(input(\"Enter any number : \"))\n",
    "order = len(str(num2))\n",
    "sum = 0\n",
    "temp = num2\n",
    "while temp > 0:\n",
    "   digit = temp % 10\n",
    "   sum += digit ** order\n",
    "   temp //= 10\n",
    "if num2 == sum:\n",
    "   print(num2,\"is an Armstrong number\")\n",
    "else:\n",
    "   print(num2,\"is not an Armstrong number\")"
   ]
  },
  {
   "cell_type": "raw",
   "id": "299af522",
   "metadata": {},
   "source": [
    "Q81. Write a Python program to find the n-th Fibonacci Number."
   ]
  },
  {
   "cell_type": "code",
   "execution_count": 18,
   "id": "6a8eae0b",
   "metadata": {},
   "outputs": [
    {
     "name": "stdout",
     "output_type": "stream",
     "text": [
      "21\n"
     ]
    }
   ],
   "source": [
    "def solve(n1):\n",
    "   if n1 <= 2:\n",
    "      return n1 - 1\n",
    "   else:\n",
    "      return solve(n1 - 1) + solve(n1 - 2)\n",
    "\n",
    "n1 = 9\n",
    "print(solve(n1))"
   ]
  },
  {
   "cell_type": "raw",
   "id": "400b22ac",
   "metadata": {},
   "source": [
    "Q82. Write a Python program to interchange the first and last element in a list."
   ]
  },
  {
   "cell_type": "code",
   "execution_count": 19,
   "id": "72f6a2ef",
   "metadata": {},
   "outputs": [
    {
     "name": "stdout",
     "output_type": "stream",
     "text": [
      "[24, 35, 9, 56, 12]\n"
     ]
    }
   ],
   "source": [
    "def swapList(list1):\n",
    "    size = len(list1)\n",
    "    temp = list1[0]\n",
    "    list1[0] = list1[size - 1]\n",
    "    list1[size - 1] = temp\n",
    "    return list1\n",
    "newList = [12, 35, 9, 56, 24]\n",
    "print(swapList(newList))"
   ]
  },
  {
   "cell_type": "raw",
   "id": "98b8f387",
   "metadata": {},
   "source": [
    "Q83. Write a Python program to swap two elements in a list."
   ]
  },
  {
   "cell_type": "code",
   "execution_count": 28,
   "id": "53eed2b8",
   "metadata": {},
   "outputs": [
    {
     "name": "stdout",
     "output_type": "stream",
     "text": [
      "Enter the positions of list to swap :2 3\n",
      "[12, 35, 56, 9, 24]\n"
     ]
    }
   ],
   "source": [
    "def swapList(list2,first,sec):\n",
    "    size = len(list2)\n",
    "    temp = list2[first]\n",
    "    list2[first] = list2[sec]\n",
    "    list2[sec] = temp\n",
    "    return list2\n",
    "newList1 = [12, 35, 9, 56, 24]\n",
    "first,sec=input(\"Enter the positions of list to swap :\").split()\n",
    "f1 = int(first)\n",
    "s1 = int(sec)\n",
    "print(swapList(newList1,f1,s1))"
   ]
  },
  {
   "cell_type": "raw",
   "id": "c32d0e65",
   "metadata": {},
   "source": [
    "Q84. Write a Python program to find N largest element from a list."
   ]
  },
  {
   "cell_type": "code",
   "execution_count": 7,
   "id": "cbd0aa48",
   "metadata": {},
   "outputs": [
    {
     "name": "stdout",
     "output_type": "stream",
     "text": [
      "Enter multiple values: 4 67 889 9 13 778\n",
      "[4, 67, 889, 9, 13, 778]\n",
      "enter the nth position : 2\n",
      "778\n"
     ]
    }
   ],
   "source": [
    "list3 = list(map(int, input(\"Enter multiple values: \").split()))\n",
    "print(list3)\n",
    "list4=sorted(list3, reverse=True)\n",
    "ch = int(input(\"enter the nth position : \"))\n",
    "print(list4[ch-1])"
   ]
  },
  {
   "cell_type": "raw",
   "id": "60cdce25",
   "metadata": {},
   "source": [
    "Q85. Write a Python program to find cumulative sum of a list"
   ]
  },
  {
   "cell_type": "code",
   "execution_count": 9,
   "id": "1ebd7260",
   "metadata": {},
   "outputs": [
    {
     "name": "stdout",
     "output_type": "stream",
     "text": [
      "[10, 30, 60, 100, 150]\n"
     ]
    }
   ],
   "source": [
    "lists = [10, 20, 30, 40, 50]\n",
    "cu_list = []\n",
    "length = len(lists)\n",
    "for x in range(0, length+1):\n",
    "    cu_list.append(sum(lists[0:x:1]))\n",
    "    \n",
    "print (cu_list[1:])"
   ]
  },
  {
   "cell_type": "raw",
   "id": "bbd8e92c",
   "metadata": {},
   "source": [
    "Q86. Write a Python program to check if a string is palindrome or not."
   ]
  },
  {
   "cell_type": "code",
   "execution_count": 11,
   "id": "77869e85",
   "metadata": {},
   "outputs": [
    {
     "name": "stdout",
     "output_type": "stream",
     "text": [
      "Enter any string to check palindrome : nayan\n",
      "nayan is palindrome\n"
     ]
    }
   ],
   "source": [
    "string12=input(\"Enter any string to check palindrome : \")\n",
    "if string12 == string12[::-1]:\n",
    "    print(string12,\"is palindrome\")\n",
    "else :\n",
    "    print(string12,\"is not a palindrome\")"
   ]
  },
  {
   "cell_type": "raw",
   "id": "3a124a4c",
   "metadata": {},
   "source": [
    "Q87. Write a Python program to remove i'th element from a string."
   ]
  },
  {
   "cell_type": "code",
   "execution_count": 15,
   "id": "ad178720",
   "metadata": {},
   "outputs": [
    {
     "name": "stdout",
     "output_type": "stream",
     "text": [
      "Enter the location from which element want to remove : 1\n",
      "ieuron\n"
     ]
    }
   ],
   "source": [
    "string21 = 'iNeuron'\n",
    "ith=int(input(\"Enter the location from which element want to remove : \"))\n",
    "print(string21[:ith]+string21[ith+1:])"
   ]
  },
  {
   "cell_type": "raw",
   "id": "f26349f2",
   "metadata": {},
   "source": [
    "Q88. Write a Python program to check if a substring is present in a given string."
   ]
  },
  {
   "cell_type": "code",
   "execution_count": 18,
   "id": "a20bbee5",
   "metadata": {},
   "outputs": [
    {
     "name": "stdout",
     "output_type": "stream",
     "text": [
      "iNeuron\n",
      "enter any string to check if it is part of mainstring : in\n",
      "in is a substring\n"
     ]
    }
   ],
   "source": [
    "print(string21)\n",
    "sub1=input(\"enter any string to check if it is part of mainstring : \")\n",
    "if (sub1.lower() in string21.lower()) or (sub1.upper() in string21.upper()):\n",
    "    print(sub1, \"is a substring\")\n",
    "else:\n",
    "    print(sub1, \"is not a substring\")"
   ]
  },
  {
   "cell_type": "raw",
   "id": "49aa96cd",
   "metadata": {},
   "source": [
    "Q89. Write a Python program to find words which are greater than given length k."
   ]
  },
  {
   "cell_type": "code",
   "execution_count": 19,
   "id": "b775c4d4",
   "metadata": {},
   "outputs": [
    {
     "name": "stdout",
     "output_type": "stream",
     "text": [
      "assign lenth to k : 2\n",
      "Name\n",
      "will\n",
      "Mumbai\n",
      "and\n",
      "banglore\n"
     ]
    }
   ],
   "source": [
    "list12 = ['Hi','My','Name','will','be','Mumbai','and','banglore']\n",
    "k=int(input(\"assign lenth to k : \"))\n",
    "for i in list12:\n",
    "    if len(i)>k:\n",
    "        print(i)"
   ]
  },
  {
   "cell_type": "raw",
   "id": "d9a81e95",
   "metadata": {},
   "source": [
    "Q90. Write a Python program to extract unquire dictionary values."
   ]
  },
  {
   "cell_type": "code",
   "execution_count": 36,
   "id": "6bacfcb8",
   "metadata": {},
   "outputs": [
    {
     "name": "stdout",
     "output_type": "stream",
     "text": [
      "{(1, 2, 3), 21, 23}\n"
     ]
    }
   ],
   "source": [
    "dict12 = {'a':23,\n",
    "         'as':21,\n",
    "         'lst':23,\n",
    "         'lst1':(1,2,3)}\n",
    "l2=set(dict12.values())\n",
    "print(l2)"
   ]
  },
  {
   "cell_type": "raw",
   "id": "6c9e5121",
   "metadata": {},
   "source": [
    "Q91. Write a Python program to merge two dictionary."
   ]
  },
  {
   "cell_type": "code",
   "execution_count": 46,
   "id": "d7331c05",
   "metadata": {},
   "outputs": [
    {
     "name": "stdout",
     "output_type": "stream",
     "text": [
      "{'a': 23, 'as': 21, 'lst': 23, 'lst1': (1, 2, 3)}\n",
      "{'apple': 23, 'banana': 24, 'cherry': 25}\n",
      "{'a': 23, 'as': 21, 'lst': 23, 'lst1': (1, 2, 3), 'apple': 23, 'banana': 24, 'cherry': 25}\n"
     ]
    }
   ],
   "source": [
    "print(dict12)\n",
    "b = {\"apple\":23, \"banana\":24, \"cherry\":25}\n",
    "print(b)\n",
    "add_dict = (dict12 | b)\n",
    "print(add_dict)"
   ]
  },
  {
   "cell_type": "raw",
   "id": "3f1ab31c",
   "metadata": {},
   "source": [
    "Q92. Write a Python program to convert a list of tuples into dictionary.\n",
    "\n",
    "Input : [('Sachin', 10), ('MSD', 7), ('Kohli', 18), ('Rohit', 45)]\n",
    "Output : {'Sachin': 10, 'MSD': 7, 'Kohli': 18, 'Rohit': 45}"
   ]
  },
  {
   "cell_type": "code",
   "execution_count": 47,
   "id": "9c056a2b",
   "metadata": {},
   "outputs": [
    {
     "name": "stdout",
     "output_type": "stream",
     "text": [
      "{'Sachin': 10, 'MSD': 7, 'Kohli': 18, 'Rohit': 45}\n"
     ]
    }
   ],
   "source": [
    "Input1 = [('Sachin', 10), ('MSD', 7), ('Kohli', 18), ('Rohit', 45)]\n",
    "print(dict(Input1))"
   ]
  },
  {
   "cell_type": "raw",
   "id": "37346ea8",
   "metadata": {},
   "source": [
    "Q93. Write a Python program to create a list of tuples from given list having number and its cube in each tuple.\n",
    "\n",
    "Input: list = [9, 5, 6]\n",
    "Output: [(9, 729), (5, 125), (6, 216)]"
   ]
  },
  {
   "cell_type": "code",
   "execution_count": 52,
   "id": "fa4c3bb5",
   "metadata": {},
   "outputs": [
    {
     "name": "stdout",
     "output_type": "stream",
     "text": [
      "[(9, 729), (5, 125), (6, 216)]\n"
     ]
    }
   ],
   "source": [
    "In1 = [9, 5, 6]\n",
    "In2 =[]\n",
    "for i in In1:\n",
    "    In2.append((i,i*i*i))\n",
    "print(In2)"
   ]
  },
  {
   "cell_type": "raw",
   "id": "a7dc7033",
   "metadata": {},
   "source": [
    "Q94. Write a Python program to get all combinations of 2 tuples.\n",
    "\n",
    "Input : test_tuple1 = (7, 2), test_tuple2 = (7, 8)\n",
    "Output : [(7, 7), (7, 8), (2, 7), (2, 8), (7, 7), (7, 2), (8, 7), (8, 2)]"
   ]
  },
  {
   "cell_type": "code",
   "execution_count": 56,
   "id": "a6b0c623",
   "metadata": {},
   "outputs": [
    {
     "name": "stdout",
     "output_type": "stream",
     "text": [
      "[(7, 7), (7, 8), (2, 7), (2, 8), (7, 7), (7, 2), (8, 7), (8, 2)]\n"
     ]
    }
   ],
   "source": [
    "test_tuple1 = (7, 2)\n",
    "test_tuple2 = (7, 8)\n",
    "In3 = []\n",
    "for i in test_tuple1:\n",
    "    for j in test_tuple2:\n",
    "        In3.append((i,j))\n",
    "for k in test_tuple2:\n",
    "    for l in test_tuple1:\n",
    "        In3.append((k,l))\n",
    "print(In3)"
   ]
  },
  {
   "cell_type": "raw",
   "id": "9045a0ee",
   "metadata": {},
   "source": [
    "Q95. Write a Python program to sort a list of tuples by second item.\n",
    "\n",
    "Input : [('for', 24), ('Geeks', 8), ('Geeks', 30)] \n",
    "Output : [('Geeks', 8), ('for', 24), ('Geeks', 30)]"
   ]
  },
  {
   "cell_type": "code",
   "execution_count": 59,
   "id": "acc81c02",
   "metadata": {},
   "outputs": [
    {
     "name": "stdout",
     "output_type": "stream",
     "text": [
      "[('Geeks', 8), ('for', 24), ('Geeks', 30)]\n"
     ]
    }
   ],
   "source": [
    "Input22 = [('for', 24), ('Geeks', 8), ('Geeks', 30)] \n",
    "abc = len(Input22)\n",
    "for i in range(0, abc):\n",
    "    for j in range(0, abc-i-1):\n",
    "        if (Input22[j][1] > Input22[j + 1][1]):\n",
    "            temp = Input22[j]\n",
    "            Input22[j]= Input22[j + 1]\n",
    "            Input22[j + 1]= temp\n",
    "print(Input22)"
   ]
  },
  {
   "cell_type": "raw",
   "id": "f430de6e",
   "metadata": {},
   "source": [
    "Q96. Write a python program to print below pattern.\n",
    "\n",
    "* \n",
    "* * \n",
    "* * * \n",
    "* * * * \n",
    "* * * * * "
   ]
  },
  {
   "cell_type": "code",
   "execution_count": 67,
   "id": "e78c79df",
   "metadata": {},
   "outputs": [
    {
     "name": "stdout",
     "output_type": "stream",
     "text": [
      "* \r\n",
      "* * \r\n",
      "* * * \r\n",
      "* * * * \r\n",
      "* * * * * \r\n"
     ]
    }
   ],
   "source": [
    "for i in range(0, 5):\n",
    "    for j in range(0, i+1):\n",
    "        print(\"* \",end=\"\")\n",
    "    print(\"\\r\")"
   ]
  },
  {
   "cell_type": "raw",
   "id": "d9261f19",
   "metadata": {},
   "source": [
    "Q97. Write a python program to print below pattern.\n",
    "\n",
    "    *\n",
    "   **\n",
    "  ***\n",
    " ****"
   ]
  },
  {
   "cell_type": "code",
   "execution_count": 69,
   "id": "65ed17c8",
   "metadata": {},
   "outputs": [
    {
     "name": "stdout",
     "output_type": "stream",
     "text": [
      "    \n",
      "   *\n",
      "  **\n",
      " ***\n",
      "****\n"
     ]
    }
   ],
   "source": [
    "n123=4\n",
    "i=0\n",
    "while(i<=n123):\n",
    "  print(\" \" * (n123 - i) +\"*\" * i)\n",
    "  i+=1"
   ]
  },
  {
   "cell_type": "raw",
   "id": "dd99b6e2",
   "metadata": {},
   "source": [
    "Q98. Write a python program to print below pattern.\n",
    "\n",
    "    * \n",
    "   * * \n",
    "  * * * \n",
    " * * * * \n",
    "* * * * * "
   ]
  },
  {
   "cell_type": "code",
   "execution_count": 72,
   "id": "14a012a6",
   "metadata": {},
   "outputs": [
    {
     "name": "stdout",
     "output_type": "stream",
     "text": [
      "    * \r\n",
      "   * * \r\n",
      "  * * * \r\n",
      " * * * * \r\n",
      "* * * * * \r\n"
     ]
    }
   ],
   "source": [
    "k = 4\n",
    "for i in range(0, 5):\n",
    "    for j in range(0, k):\n",
    "        print(end=\" \")\n",
    "    k = k - 1\n",
    "    for j in range(0, i+1):\n",
    "        print(\"* \", end=\"\")\n",
    "    print(\"\\r\")"
   ]
  },
  {
   "cell_type": "raw",
   "id": "7c8ff1fe",
   "metadata": {},
   "source": [
    "Q99. Write a python program to print below pattern.\n",
    "\n",
    "1 \n",
    "1 2 \n",
    "1 2 3 \n",
    "1 2 3 4 \n",
    "1 2 3 4 5"
   ]
  },
  {
   "cell_type": "code",
   "execution_count": 74,
   "id": "5a83754c",
   "metadata": {},
   "outputs": [
    {
     "name": "stdout",
     "output_type": "stream",
     "text": [
      "1 \r\n",
      "1 2 \r\n",
      "1 2 3 \r\n",
      "1 2 3 4 \r\n",
      "1 2 3 4 5 \r\n"
     ]
    }
   ],
   "source": [
    "num12 = 1\n",
    "for i in range(0, 5):\n",
    "    num12 = 1\n",
    "    for j in range(0, i+1):\n",
    "        print(num12, end=\" \")\n",
    "        num12 += 1\n",
    "    print(\"\\r\")"
   ]
  },
  {
   "cell_type": "raw",
   "id": "6cc20039",
   "metadata": {},
   "source": [
    "Q100. Write a python program to print below pattern.\n",
    "\n",
    "A \n",
    "B B \n",
    "C C C \n",
    "D D D D \n",
    "E E E E E "
   ]
  },
  {
   "cell_type": "code",
   "execution_count": 82,
   "id": "9f4c1633",
   "metadata": {},
   "outputs": [
    {
     "name": "stdout",
     "output_type": "stream",
     "text": [
      "\r\n",
      "A \r\n",
      "B B \r\n",
      "C C C \r\n",
      "D D D D \r\n",
      "E E E E E \r\n"
     ]
    }
   ],
   "source": [
    "list123 = ['A','B','C','D','E']\n",
    "for i in range(1,len(list123)+2):\n",
    "    for j in range(1,i):\n",
    "        print(list123[i-2],end=\" \")\n",
    "    print(\"\\r\")"
   ]
  }
 ],
 "metadata": {
  "kernelspec": {
   "display_name": "Python 3 (ipykernel)",
   "language": "python",
   "name": "python3"
  },
  "language_info": {
   "codemirror_mode": {
    "name": "ipython",
    "version": 3
   },
   "file_extension": ".py",
   "mimetype": "text/x-python",
   "name": "python",
   "nbconvert_exporter": "python",
   "pygments_lexer": "ipython3",
   "version": "3.10.8"
  }
 },
 "nbformat": 4,
 "nbformat_minor": 5
}
